{
  "nbformat": 4,
  "nbformat_minor": 0,
  "metadata": {
    "colab": {
      "provenance": [],
      "authorship_tag": "ABX9TyOGhBSOh05iZ8u5aBPrLPl5",
      "include_colab_link": true
    },
    "kernelspec": {
      "name": "python3",
      "display_name": "Python 3"
    },
    "language_info": {
      "name": "python"
    }
  },
  "cells": [
    {
      "cell_type": "markdown",
      "metadata": {
        "id": "view-in-github",
        "colab_type": "text"
      },
      "source": [
        "<a href=\"https://colab.research.google.com/github/syedmuneeb321/assignments/blob/main/water_bucket.ipynb\" target=\"_parent\"><img src=\"https://colab.research.google.com/assets/colab-badge.svg\" alt=\"Open In Colab\"/></a>"
      ]
    },
    {
      "cell_type": "code",
      "execution_count": 1,
      "metadata": {
        "colab": {
          "base_uri": "https://localhost:8080/"
        },
        "id": "Nq4AYD4lW6Kf",
        "outputId": "264204d1-181e-46c6-db9f-e63070951831"
      },
      "outputs": [
        {
          "output_type": "stream",
          "name": "stdout",
          "text": [
            "Initial State: 3L Bucket = 0, 5L Bucket = 0, 8L Bucket = 0\n",
            "Step 1: Fill 5L Bucket: 3L Bucket = 0, 5L Bucket = 5, 8L Bucket = 0\n",
            "Step 2: Pour water from 5L to 3L: 3L Bucket = 2, 5L Bucket = 3, 8L Bucket = 0\n",
            "Step 3: Empty 3L Bucket: 3L Bucket = 0, 5L Bucket = 3, 8L Bucket = 0\n",
            "Step 4: Pour remaining from 5L to 3L: 3L Bucket = 0, 5L Bucket = 3, 8L Bucket = 0\n",
            "Step 5: Fill 5L Bucket again: 3L Bucket = 0, 5L Bucket = 5, 8L Bucket = 0\n",
            "Step 6: Pour from 5L to 3L again: 3L Bucket = 2, 5L Bucket = 3, 8L Bucket = 0\n",
            "Step 7: Goal reached! 5L Bucket = 3 (This is 4 liters)\n"
          ]
        }
      ],
      "source": [
        "def pour_water(source, target, target_capacity):\n",
        "    \"\"\"Pour water from the source bucket to the target bucket.\"\"\"\n",
        "    # Calculate how much water can be poured without overflowing\n",
        "    pour = min(source, target_capacity - target)\n",
        "    # Subtract the poured water from the source and add it to the target\n",
        "    source -= pour\n",
        "    target += pour\n",
        "    return source, target\n",
        "\n",
        "def water_jug_problem():\n",
        "    # Capacities of the three buckets\n",
        "    capacity_3 = 3  # 3-liter bucket\n",
        "    capacity_5 = 5  # 5-liter bucket\n",
        "    capacity_8 = 8  # 8-liter bucket\n",
        "\n",
        "    # Initially, all buckets are empty\n",
        "    bucket_3 = 0  # 3-liter bucket\n",
        "    bucket_5 = 0  # 5-liter bucket\n",
        "    bucket_8 = 0  # 8-liter bucket\n",
        "\n",
        "    # Print initial state of the buckets\n",
        "    print(f\"Initial State: 3L Bucket = {bucket_3}, 5L Bucket = {bucket_5}, 8L Bucket = {bucket_8}\")\n",
        "\n",
        "    # Step 1: Fill the 5-liter bucket completely\n",
        "    bucket_5 = capacity_5\n",
        "    print(f\"Step 1: Fill 5L Bucket: 3L Bucket = {bucket_3}, 5L Bucket = {bucket_5}, 8L Bucket = {bucket_8}\")\n",
        "\n",
        "    # Step 2: Pour water from 5L bucket to 3L bucket until the 3L bucket is full\n",
        "    bucket_3, bucket_5 = pour_water(bucket_5, bucket_3, capacity_3)\n",
        "    print(f\"Step 2: Pour water from 5L to 3L: 3L Bucket = {bucket_3}, 5L Bucket = {bucket_5}, 8L Bucket = {bucket_8}\")\n",
        "\n",
        "    # Step 3: Empty the 3L bucket\n",
        "    bucket_3 = 0\n",
        "    print(f\"Step 3: Empty 3L Bucket: 3L Bucket = {bucket_3}, 5L Bucket = {bucket_5}, 8L Bucket = {bucket_8}\")\n",
        "\n",
        "    # Step 4: Pour the remaining 2 liters from 5L bucket into the 3L bucket\n",
        "    bucket_3, bucket_5 = pour_water(bucket_5, bucket_3, capacity_3)\n",
        "    print(f\"Step 4: Pour remaining from 5L to 3L: 3L Bucket = {bucket_3}, 5L Bucket = {bucket_5}, 8L Bucket = {bucket_8}\")\n",
        "\n",
        "    # Step 5: Fill the 5-liter bucket again\n",
        "    bucket_5 = capacity_5\n",
        "    print(f\"Step 5: Fill 5L Bucket again: 3L Bucket = {bucket_3}, 5L Bucket = {bucket_5}, 8L Bucket = {bucket_8}\")\n",
        "\n",
        "    # Step 6: Pour from 5L bucket into the 3L bucket until it's full\n",
        "    bucket_3, bucket_5 = pour_water(bucket_5, bucket_3, capacity_3)\n",
        "    print(f\"Step 6: Pour from 5L to 3L again: 3L Bucket = {bucket_3}, 5L Bucket = {bucket_5}, 8L Bucket = {bucket_8}\")\n",
        "\n",
        "    # Step 7: Now the 5L bucket has exactly 4 liters left\n",
        "    print(f\"Step 7: Goal reached! 5L Bucket = {bucket_5} (This is 4 liters)\")\n",
        "\n",
        "# Run the water jug problem solution\n",
        "water_jug_problem()\n"
      ]
    }
  ]
}